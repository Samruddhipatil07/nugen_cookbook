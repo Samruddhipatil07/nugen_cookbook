{
 "cells": [
  {
   "cell_type": "markdown",
   "id": "bd115c16",
   "metadata": {},
   "source": [
    "# Getting Started with Nugen API\n",
    "\n",
    "Welcome to this simple walkthrough of using the Nugen API! This notebook is designed for beginners who want to try their first API call to Nugen.\n",
    "\n",
    "We'll go step-by-step: install dependencies, get your API key, and make your first call."
   ]
  },
  {
   "cell_type": "markdown",
   "id": "b173f1fc",
   "metadata": {},
   "source": [
    "## Step 1: Install Dependencies\n",
    "Make sure you have Python and Jupyter installed. Then, install the required packages below."
   ]
  },
  {
   "cell_type": "code",
   "execution_count": null,
   "id": "19c61746",
   "metadata": {},
   "outputs": [],
   "source": [
    "!pip install requests"
   ]
  },
  {
   "cell_type": "markdown",
   "id": "67591f4d",
   "metadata": {},
   "source": [
    "## Step 2: Set Your Nugen API Key\n",
    "To use the Nugen API, you need an API key. You can get it by:\n",
    "1. Going to [https://nugen.in](https://nugen.in)\n",
    "2. Signing up or logging in\n",
    "3. Navigating to the Developer/API section\n",
    "4. Copying your API key\n",
    "\n",
    "Paste your API key below:"
   ]
  },
  {
   "cell_type": "code",
   "execution_count": null,
   "id": "5fa1d2e7",
   "metadata": {},
   "outputs": [],
   "source": [
    "api_key = \"your_api_key_here\""
   ]
  },
  {
   "cell_type": "markdown",
   "id": "1f21a3fd",
   "metadata": {},
   "source": [
    "## Step 3: Make Your First API Call\n",
    "Here's a simple example using Python's `requests` library. We'll send a basic prompt to the Nugen prompt-evaluator."
   ]
  },
  {
   "cell_type": "code",
   "execution_count": null,
   "id": "c9239c34",
   "metadata": {},
   "outputs": [],
   "source": [
    "import requests\n",
    "\n",
    "url = \"https://api.nugen.ai/v1/prompt-evaluator\"\n",
    "\n",
    "headers = {\n",
    "    \"Authorization\": f\"Bearer {api_key}\",\n",
    "    \"Content-Type\": \"application/json\"\n",
    "}\n",
    "\n",
    "data = {\n",
    "    \"input\": {\n",
    "        \"prompt\": \"Summarize the benefits of using solar energy in rural India.\",\n",
    "        \"domain\": \"education\"\n",
    "    }\n",
    "}\n",
    "\n",
    "response = requests.post(url, headers=headers, json=data)\n",
    "\n",
    "# Print response in a readable format\n",
    "if response.status_code == 200:\n",
    "    print(\"Success! Here's the response:\")\n",
    "    print(response.json())\n",
    "else:\n",
    "    print(f\"Failed: {response.status_code}\")\n",
    "    print(response.text)"
   ]
  },
  {
   "cell_type": "markdown",
   "id": "13e63333",
   "metadata": {},
   "source": [
    "## Output Explanation\n",
    "This API call sends a prompt and domain to Nugen’s evaluator. The response will contain evaluation metrics or summaries based on AI reasoning. Explore the keys in `response.json()` to learn more!"
   ]
  },
  {
   "cell_type": "markdown",
   "id": "3a8b889d",
   "metadata": {},
   "source": [
    "## 🥳You're Done!\n",
    "Congrats on making your first API call to Nugen! You can now try modifying the prompt, changing domains, or even exploring other APIs from the cookbook.\n",
    "\n",
    "Feel free to reach out or contribute more examples!"
   ]
  }
 ],
 "metadata": {},
 "nbformat": 4,
 "nbformat_minor": 5
}
